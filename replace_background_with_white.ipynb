{
 "cells": [
  {
   "cell_type": "code",
   "execution_count": 2,
   "id": "82935f99",
   "metadata": {},
   "outputs": [],
   "source": [
    "from rembg import remove\n",
    "from PIL import Image\n",
    "import numpy as np\n",
    "\n",
    "def replace_background_with_white(input_path, output_path='output_white_bg.png'):\n",
    "    # Load input image\n",
    "    input_image = Image.open(input_path).convert(\"RGBA\")\n",
    "\n",
    "    # Remove background\n",
    "    result_image = remove(input_image)\n",
    "\n",
    "    # Convert to numpy array\n",
    "    data = np.array(result_image)\n",
    "\n",
    "    # Separate alpha channel\n",
    "    r, g, b, a = data[:, :, 0], data[:, :, 1], data[:, :, 2], data[:, :, 3]\n",
    "\n",
    "    # Create white background\n",
    "    white_background = 255 * np.ones_like(data, dtype=np.uint8)\n",
    "    white_background[:, :, 0] = r\n",
    "    white_background[:, :, 1] = g\n",
    "    white_background[:, :, 2] = b\n",
    "    white_background[:, :, 3] = a\n",
    "\n",
    "    # Blend with white using alpha channel\n",
    "    alpha_factor = a[:, :, np.newaxis] / 255.0\n",
    "    final_image = (white_background[:, :, :3] * alpha_factor +\n",
    "                   255 * (1 - alpha_factor)).astype(np.uint8)\n",
    "\n",
    "    # Convert back to image and save\n",
    "    output = Image.fromarray(final_image)\n",
    "    output.save(output_path)\n",
    "    output.show()\n",
    "\n",
    "# Example usage\n",
    "replace_background_with_white(\"cropped_result.jpg\")"
   ]
  }
 ],
 "metadata": {
  "kernelspec": {
   "display_name": "py310",
   "language": "python",
   "name": "python3"
  },
  "language_info": {
   "codemirror_mode": {
    "name": "ipython",
    "version": 3
   },
   "file_extension": ".py",
   "mimetype": "text/x-python",
   "name": "python",
   "nbconvert_exporter": "python",
   "pygments_lexer": "ipython3",
   "version": "3.10.16"
  }
 },
 "nbformat": 4,
 "nbformat_minor": 5
}
